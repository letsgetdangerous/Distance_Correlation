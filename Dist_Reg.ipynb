{
  "nbformat": 4,
  "nbformat_minor": 0,
  "metadata": {
    "colab": {
      "name": "Dist_Reg.ipynb",
      "provenance": [],
      "collapsed_sections": [],
      "authorship_tag": "ABX9TyNzcwzUEOPBl6oiqVUSkWoQ",
      "include_colab_link": true
    },
    "kernelspec": {
      "name": "python3",
      "display_name": "Python 3"
    }
  },
  "cells": [
    {
      "cell_type": "markdown",
      "metadata": {
        "id": "view-in-github",
        "colab_type": "text"
      },
      "source": [
        "<a href=\"https://colab.research.google.com/github/letsgetdangerous/Distance_Correlation/blob/master/Dist_Reg.ipynb\" target=\"_parent\"><img src=\"https://colab.research.google.com/assets/colab-badge.svg\" alt=\"Open In Colab\"/></a>"
      ]
    },
    {
      "cell_type": "markdown",
      "metadata": {
        "id": "fmzBImBzcco6",
        "colab_type": "text"
      },
      "source": [
        "#This begins my distance correlation experimentation"
      ]
    },
    {
      "cell_type": "code",
      "metadata": {
        "id": "JHmRfO_2cai7",
        "colab_type": "code",
        "colab": {}
      },
      "source": [
        "import numpy as np\n",
        "from scipy.spatial import distance_matrix as dist\n",
        "from scipy.stats import spearmanr, pearsonr\n",
        "import matplotlib.pyplot as plt\n",
        "plt.style.use('fivethirtyeight')"
      ],
      "execution_count": 0,
      "outputs": []
    },
    {
      "cell_type": "code",
      "metadata": {
        "id": "kz7FouDQci6U",
        "colab_type": "code",
        "colab": {}
      },
      "source": [
        "n = 20\n",
        "x = np.linspace(-5,5,num = n)\n",
        "np.random.seed(123)\n",
        "y = 1 + x**3"
      ],
      "execution_count": 0,
      "outputs": []
    },
    {
      "cell_type": "code",
      "metadata": {
        "id": "KcVVgm-hc8yk",
        "colab_type": "code",
        "colab": {}
      },
      "source": [
        "x.shape = (n,1)\n",
        "y.shape = (n,1)"
      ],
      "execution_count": 0,
      "outputs": []
    },
    {
      "cell_type": "code",
      "metadata": {
        "id": "j-lXcMb3c98u",
        "colab_type": "code",
        "outputId": "eb021af8-b6a3-4f90-acc3-76db1473e379",
        "colab": {
          "base_uri": "https://localhost:8080/",
          "height": 299
        }
      },
      "source": [
        "plt.scatter(x,y)"
      ],
      "execution_count": 12,
      "outputs": [
        {
          "output_type": "execute_result",
          "data": {
            "text/plain": [
              "<matplotlib.collections.PathCollection at 0x7fb2a0f47320>"
            ]
          },
          "metadata": {
            "tags": []
          },
          "execution_count": 12
        },
        {
          "output_type": "display_data",
          "data": {
            "image/png": "[encoded data removed]",
            "text/plain": [
              "<Figure size 432x288 with 1 Axes>"
            ]
          },
          "metadata": {
            "tags": []
          }
        }
      ]
    },
    {
      "cell_type": "code",
      "metadata": {
        "id": "9nUWqcPS5W3t",
        "colab_type": "code",
        "colab": {}
      },
      "source": [
        "a = dist(x,x, p=2)\n",
        "b = dist(y,y, p=2)\n",
        "A = a - np.reshape(np.average(a, axis = 0),(5,1)) - np.reshape(np.average(a,axis = 1),(1,5)) + np.average(a) \n",
        "B = b - np.reshape(np.average(b, axis = 0),(5,1)) - np.reshape(np.average(b,axis = 1),(1,5)) + np.average(b)"
      ],
      "execution_count": 0,
      "outputs": []
    },
    {
      "cell_type": "code",
      "metadata": {
        "id": "bPlLHQfEA-Zo",
        "colab_type": "code",
        "colab": {}
      },
      "source": [
        "dcov = np.sum(A*B)/n**2\n",
        "dvarX = np.sum(A*A)/n**2\n",
        "dvarY = np.sum(B*B)/n**2\n",
        "dcorr = dcov / np.sqrt(dvarX*dvarY)"
      ],
      "execution_count": 0,
      "outputs": []
    },
    {
      "cell_type": "code",
      "metadata": {
        "id": "-xeBtAh3A-dh",
        "colab_type": "code",
        "outputId": "73551ca2-6d09-4db5-d37c-185b9954370b",
        "colab": {
          "base_uri": "https://localhost:8080/",
          "height": 34
        }
      },
      "source": [
        "spearmanr(x,y)"
      ],
      "execution_count": 34,
      "outputs": [
        {
          "output_type": "execute_result",
          "data": {
            "text/plain": [
              "SpearmanrResult(correlation=0.9804511278195487, pvalue=3.6893592442965844e-14)"
            ]
          },
          "metadata": {
            "tags": []
          },
          "execution_count": 34
        }
      ]
    },
    {
      "cell_type": "code",
      "metadata": {
        "id": "iPL-ncKIFF_L",
        "colab_type": "code",
        "colab": {
          "base_uri": "https://localhost:8080/",
          "height": 34
        },
        "outputId": "3f07f733-848b-4425-df95-3d5f521d9e65"
      },
      "source": [
        "pearsonr(np.reshape(x, 20),np.reshape(y, 20))"
      ],
      "execution_count": 29,
      "outputs": [
        {
          "output_type": "execute_result",
          "data": {
            "text/plain": [
              "(0.9210624066317403, 8.464616087504338e-09)"
            ]
          },
          "metadata": {
            "tags": []
          },
          "execution_count": 29
        }
      ]
    },
    {
      "cell_type": "code",
      "metadata": {
        "id": "livu6YqRg0by",
        "colab_type": "code",
        "colab": {
          "base_uri": "https://localhost:8080/",
          "height": 34
        },
        "outputId": "bb481975-2303-4230-c754-1a0a0e0fc903"
      },
      "source": [
        ""
      ],
      "execution_count": 33,
      "outputs": [
        {
          "output_type": "stream",
          "text": [
            "Hello my number is 4.00\n"
          ],
          "name": "stdout"
        }
      ]
    },
    {
      "cell_type": "code",
      "metadata": {
        "id": "_EXYioishlwC",
        "colab_type": "code",
        "colab": {}
      },
      "source": [
        ""
      ],
      "execution_count": 0,
      "outputs": []
    }
  ]
}