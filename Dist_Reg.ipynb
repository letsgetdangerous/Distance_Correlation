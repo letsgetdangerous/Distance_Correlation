{
  "nbformat": 4,
  "nbformat_minor": 0,
  "metadata": {
    "colab": {
      "name": "Dist_Reg.ipynb",
      "provenance": [],
      "authorship_tag": "ABX9TyPSi4zODnXZYYUywPOrex0x",
      "include_colab_link": true
    },
    "kernelspec": {
      "name": "python3",
      "display_name": "Python 3"
    }
  },
  "cells": [
    {
      "cell_type": "markdown",
      "metadata": {
        "id": "view-in-github",
        "colab_type": "text"
      },
      "source": [
        "<a href=\"https://colab.research.google.com/github/letsgetdangerous/Distance_Correlation/blob/master/Dist_Reg.ipynb\" target=\"_parent\"><img src=\"https://colab.research.google.com/assets/colab-badge.svg\" alt=\"Open In Colab\"/></a>"
      ]
    },
    {
      "cell_type": "markdown",
      "metadata": {
        "id": "fmzBImBzcco6",
        "colab_type": "text"
      },
      "source": [
        "#This begins my distance correlation experimentation"
      ]
    },
    {
      "cell_type": "code",
      "metadata": {
        "id": "JHmRfO_2cai7",
        "colab_type": "code",
        "colab": {}
      },
      "source": [
        "import numpy as np\n",
        "import matplotlib.pyplot as plt\n",
        "plt.style.use('fivethirtyeight')"
      ],
      "execution_count": 0,
      "outputs": []
    },
    {
      "cell_type": "code",
      "metadata": {
        "id": "kz7FouDQci6U",
        "colab_type": "code",
        "colab": {}
      },
      "source": [
        "n = 5\n",
        "x = np.linspace(1,5,num = n)\n",
        "y = 1 + x**3 + np.random.normal(scale = 5,size = n)"
      ],
      "execution_count": 0,
      "outputs": []
    },
    {
      "cell_type": "code",
      "metadata": {
        "id": "KcVVgm-hc8yk",
        "colab_type": "code",
        "colab": {
          "base_uri": "https://localhost:8080/",
          "height": 34
        },
        "outputId": "925c2c19-bcf2-4272-e4c3-404756552a96"
      },
      "source": [
        "x.shape"
      ],
      "execution_count": 36,
      "outputs": [
        {
          "output_type": "execute_result",
          "data": {
            "text/plain": [
              "(5,)"
            ]
          },
          "metadata": {
            "tags": []
          },
          "execution_count": 36
        }
      ]
    },
    {
      "cell_type": "code",
      "metadata": {
        "id": "j-lXcMb3c98u",
        "colab_type": "code",
        "colab": {
          "base_uri": "https://localhost:8080/",
          "height": 299
        },
        "outputId": "23035fcd-94d0-4c38-aae1-0b717080c386"
      },
      "source": [
        "plt.scatter(x,y)"
      ],
      "execution_count": 41,
      "outputs": [
        {
          "output_type": "execute_result",
          "data": {
            "text/plain": [
              "<matplotlib.collections.PathCollection at 0x7f8c2c2a0ef0>"
            ]
          },
          "metadata": {
            "tags": []
          },
          "execution_count": 41
        },
        {
          "output_type": "display_data",
          "data": {
            "image/png": "[encoded data removed]",
            "text/plain": [
              "<Figure size 432x288 with 1 Axes>"
            ]
          },
          "metadata": {
            "tags": []
          }
        }
      ]
    },
    {
      "cell_type": "code",
      "metadata": {
        "id": "5MraduJFdK9v",
        "colab_type": "code",
        "colab": {}
      },
      "source": [
        "1w          "
      ],
      "execution_count": 0,
      "outputs": []
    }
  ]
}