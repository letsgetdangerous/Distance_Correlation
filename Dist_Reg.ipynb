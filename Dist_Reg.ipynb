{
  "nbformat": 4,
  "nbformat_minor": 0,
  "metadata": {
    "colab": {
      "name": "Dist_Reg.ipynb",
      "provenance": [],
      "collapsed_sections": [],
      "authorship_tag": "ABX9TyOL7M4tgLDD2al8PcxIS04l",
      "include_colab_link": true
    },
    "kernelspec": {
      "name": "python3",
      "display_name": "Python 3"
    }
  },
  "cells": [
    {
      "cell_type": "markdown",
      "metadata": {
        "id": "view-in-github",
        "colab_type": "text"
      },
      "source": [
        "<a href=\"https://colab.research.google.com/github/letsgetdangerous/Distance_Correlation/blob/master/Dist_Reg.ipynb\" target=\"_parent\"><img src=\"https://colab.research.google.com/assets/colab-badge.svg\" alt=\"Open In Colab\"/></a>"
      ]
    },
    {
      "cell_type": "markdown",
      "metadata": {
        "id": "fmzBImBzcco6",
        "colab_type": "text"
      },
      "source": [
        "#This begins my distance correlation experimentation"
      ]
    },
    {
      "cell_type": "code",
      "metadata": {
        "id": "JHmRfO_2cai7",
        "colab_type": "code",
        "colab": {}
      },
      "source": [
        "import numpy as np\n",
        "from scipy.spatial import distance_matrix as dist\n",
        "import matplotlib.pyplot as plt\n",
        "plt.style.use('fivethirtyeight')"
      ],
      "execution_count": 0,
      "outputs": []
    },
    {
      "cell_type": "code",
      "metadata": {
        "id": "kz7FouDQci6U",
        "colab_type": "code",
        "colab": {}
      },
      "source": [
        "n = 5\n",
        "x = np.linspace(1,5,num = n)\n",
        "np.random.seed(123)\n",
        "y = 1 + x**3 + np.random.normal(scale = 5,size = n)"
      ],
      "execution_count": 0,
      "outputs": []
    },
    {
      "cell_type": "code",
      "metadata": {
        "id": "KcVVgm-hc8yk",
        "colab_type": "code",
        "colab": {}
      },
      "source": [
        "x.shape = (n,1)\n",
        "y.shape = (n,1)"
      ],
      "execution_count": 0,
      "outputs": []
    },
    {
      "cell_type": "code",
      "metadata": {
        "id": "j-lXcMb3c98u",
        "colab_type": "code",
        "outputId": "a1035cef-3c50-49d7-9883-4a1a9d250bb5",
        "colab": {
          "base_uri": "https://localhost:8080/",
          "height": 299
        }
      },
      "source": [
        "plt.scatter(x,y)"
      ],
      "execution_count": 25,
      "outputs": [
        {
          "output_type": "execute_result",
          "data": {
            "text/plain": [
              "<matplotlib.collections.PathCollection at 0x7fc0aa7a4cc0>"
            ]
          },
          "metadata": {
            "tags": []
          },
          "execution_count": 25
        },
        {
          "output_type": "display_data",
          "data": {
            "image/png": "[encoded data removed]",
            "text/plain": [
              "<Figure size 432x288 with 1 Axes>"
            ]
          },
          "metadata": {
            "tags": []
          }
        }
      ]
    },
    {
      "cell_type": "code",
      "metadata": {
        "id": "9nUWqcPS5W3t",
        "colab_type": "code",
        "colab": {}
      },
      "source": [
        "a = dist(x,x, p=2)\n",
        "b = dist(y,y, p=2)\n",
        "A = a - np.reshape(np.average(a, axis = 0),(5,1)) - np.reshape(np.average(a,axis = 1),(1,5)) + np.average(a) \n",
        "B = b - np.reshape(np.average(b, axis = 0),(5,1)) - np.reshape(np.average(b,axis = 1),(1,5)) + np.average(b)"
      ],
      "execution_count": 0,
      "outputs": []
    },
    {
      "cell_type": "code",
      "metadata": {
        "id": "bPlLHQfEA-Zo",
        "colab_type": "code",
        "colab": {}
      },
      "source": [
        "dcov = np.sum(A*B)/n**2\n",
        "dvarX = np.sum(A*A)/n**2\n",
        "dvarY = np.sum(B*B)/n**2\n",
        "dcorr = dcov / np.sqrt(dvarX*dvarY)\n",
        "dbeta = dcorr * np.sqrt(dvarY / dvarX)"
      ],
      "execution_count": 0,
      "outputs": []
    },
    {
      "cell_type": "code",
      "metadata": {
        "id": "-xeBtAh3A-dh",
        "colab_type": "code",
        "outputId": "b6f1617a-d81f-478a-c667-953cdb180edb",
        "colab": {
          "base_uri": "https://localhost:8080/",
          "height": 187
        }
      },
      "source": [
        "new = dist(x,np.array([[2.0]]))\n",
        "new = new - np.reshape(np.average(a, axis = 0),(5,1))\n",
        "#new = new * dcorr * np.sqrt(dvarY / dvarX)\n",
        "#new = new + np.reshape(np.average(a, axis = 0),(5,1)) + np.reshape(np.average(a,axis = 1),(1,5)) + np.average(a)\n",
        "print(new * dbeta)\n",
        "print(np.reshape(np.average(b, axis = 0),(5,1)))\n",
        " "
      ],
      "execution_count": 51,
      "outputs": [
        {
          "output_type": "stream",
          "text": [
            "[[-27.9890396 ]\n",
            " [-39.18465544]\n",
            " [ -5.59780792]\n",
            " [ 16.79342376]\n",
            " [ 27.9890396 ]]\n",
            "[[47.53795139]\n",
            " [37.08902324]\n",
            " [34.00339019]\n",
            " [39.61411698]\n",
            " [78.99720036]]\n"
          ],
          "name": "stdout"
        }
      ]
    },
    {
      "cell_type": "code",
      "metadata": {
        "id": "iPL-ncKIFF_L",
        "colab_type": "code",
        "colab": {}
      },
      "source": [
        ""
      ],
      "execution_count": 0,
      "outputs": []
    }
  ]
}